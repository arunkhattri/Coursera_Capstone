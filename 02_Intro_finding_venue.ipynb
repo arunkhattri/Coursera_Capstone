{
 "cells": [
  {
   "cell_type": "code",
   "execution_count": 1,
   "id": "6589520f-7827-4d4c-bcaa-269e4d06f06b",
   "metadata": {},
   "outputs": [],
   "source": [
    "import configparser\n",
    "import json\n",
    "import requests\n",
    "import pandas as pd\n",
    "import numpy as np\n",
    "import random\n",
    "from geopy.geocoders import Nominatim\n",
    "\n",
    "# library for displaying images\n",
    "from IPython.display import Image\n",
    "from IPython.core.display import HTML\n",
    "\n",
    "# transform json file into a padas dataframe library\n",
    "from pandas.io.json import json_normalize\n",
    "import folium"
   ]
  },
  {
   "cell_type": "code",
   "execution_count": 2,
   "id": "c9f552b5-eeed-4495-a946-d2bd6f644eae",
   "metadata": {},
   "outputs": [],
   "source": [
    "config = configparser.ConfigParser()\n",
    "config.read(\"./keys.ini\")\n",
    "\n",
    "api_key = config.get('foursquare', 'ApiKey')\n",
    "api_secret = config.get('foursquare', 'ApiSecret')\n",
    "access_token = config.get('foursquare', 'AccessToken')"
   ]
  },
  {
   "cell_type": "markdown",
   "id": "2521ed6a-3738-45e4-b484-ee83f56d74a1",
   "metadata": {},
   "source": [
    "## Find a coffee shop near a given location"
   ]
  },
  {
   "cell_type": "code",
   "execution_count": 4,
   "id": "08a3a51d-5122-4278-a703-3b23b90f48f7",
   "metadata": {},
   "outputs": [],
   "source": [
    "url = \"https://api.foursquare.com/v2/venues/explore\""
   ]
  },
  {
   "cell_type": "code",
   "execution_count": 5,
   "id": "9a98c3ce-13e1-4aa3-b988-d75f33f65b8a",
   "metadata": {},
   "outputs": [],
   "source": [
    "params = dict (\n",
    "client_id=api_key,\n",
    "client_secret=api_secret,\n",
    "v=\"20210623\",\n",
    "ll=\"28.66023, 77.14980\",\n",
    "query='coffee',\n",
    "limit=3)"
   ]
  },
  {
   "cell_type": "code",
   "execution_count": 6,
   "id": "df477e3e-a894-4538-98c6-ac2d41497415",
   "metadata": {},
   "outputs": [],
   "source": [
    "resp = requests.get(url=url, params=params)\n",
    "data = json.loads(resp.text)"
   ]
  },
  {
   "cell_type": "code",
   "execution_count": 9,
   "id": "25aef74d-82b7-430b-9af5-005357f7aeac",
   "metadata": {},
   "outputs": [
    {
     "data": {
      "text/plain": [
       "dict_keys(['meta', 'response'])"
      ]
     },
     "execution_count": 9,
     "metadata": {},
     "output_type": "execute_result"
    }
   ],
   "source": [
    "data.keys()"
   ]
  },
  {
   "cell_type": "code",
   "execution_count": 10,
   "id": "136877d9-2488-421c-b1c1-67ba1e4f6fa6",
   "metadata": {},
   "outputs": [
    {
     "data": {
      "text/plain": [
       "{'code': 200, 'requestId': '60d35024b8196d792a9374a3'}"
      ]
     },
     "execution_count": 10,
     "metadata": {},
     "output_type": "execute_result"
    }
   ],
   "source": [
    "data['meta']"
   ]
  },
  {
   "cell_type": "code",
   "execution_count": 12,
   "id": "c4922a56-e3e2-499c-ba64-76d30e2beb92",
   "metadata": {},
   "outputs": [
    {
     "data": {
      "text/plain": [
       "dict_keys(['suggestedFilters', 'warning', 'suggestedRadius', 'headerLocation', 'headerFullLocation', 'headerLocationGranularity', 'query', 'totalResults', 'suggestedBounds', 'groups'])"
      ]
     },
     "execution_count": 12,
     "metadata": {},
     "output_type": "execute_result"
    }
   ],
   "source": [
    "data['response'].keys()"
   ]
  },
  {
   "cell_type": "code",
   "execution_count": 24,
   "id": "25be2079-9b50-4cc9-a25e-a22b7e0d8a8d",
   "metadata": {},
   "outputs": [
    {
     "data": {
      "text/plain": [
       "3"
      ]
     },
     "execution_count": 24,
     "metadata": {},
     "output_type": "execute_result"
    }
   ],
   "source": [
    "items = data['response']['groups'][0]['items']\n",
    "len(items)"
   ]
  },
  {
   "cell_type": "code",
   "execution_count": 29,
   "id": "22c53c37-01cf-4fa4-ac11-9d731b5438cb",
   "metadata": {},
   "outputs": [
    {
     "name": "stdout",
     "output_type": "stream",
     "text": [
      "[i] Name: Cafe Coffee Day\n",
      "    Location: Moti Nagar\n",
      "[i] Name: Dunkin'\n",
      "    Location: Punjabi Bagh Club Road\n",
      "[i] Name: Costa Coffee\n",
      "    Location: 1st Floor, Moments Mall\n"
     ]
    }
   ],
   "source": [
    "for item in items:\n",
    "    print(f\"[i] Name: {item['venue']['name']}\")\n",
    "    print(f\"    Location: {item['venue']['location']['address']}\")"
   ]
  },
  {
   "cell_type": "markdown",
   "id": "9f2fcf9e-1a28-4723-943d-4bb9e5d26180",
   "metadata": {},
   "source": [
    "## Conrad Hotel\n",
    "\n",
    "Let's again assume that we are staying at the Conrad hotel. So let's start by converting the Contrad Hotel's address to its latitude and longitude coordinates."
   ]
  },
  {
   "cell_type": "code",
   "execution_count": 3,
   "id": "0d6ab121-5e7d-46e2-bf71-b1ee2740dbd3",
   "metadata": {},
   "outputs": [
    {
     "name": "stdout",
     "output_type": "stream",
     "text": [
      "Lat: 40.7149555; Lon: -74.0153365\n"
     ]
    }
   ],
   "source": [
    "address = \"102 North End Ave, New York, NY\"\n",
    "geolocator = Nominatim(user_agent='foursquare_agent')\n",
    "location = geolocator.geocode(address)\n",
    "latitude = location.latitude\n",
    "longitude = location.longitude\n",
    "print(f\"Lat: {latitude}; Lon: {longitude}\")"
   ]
  },
  {
   "cell_type": "code",
   "execution_count": 4,
   "id": "6475849b-b8c1-41e5-b9b0-420e048de095",
   "metadata": {},
   "outputs": [
    {
     "data": {
      "text/plain": [
       "'40.7149555, -74.0153365'"
      ]
     },
     "execution_count": 4,
     "metadata": {},
     "output_type": "execute_result"
    }
   ],
   "source": [
    "latlon = f\"{latitude}, {longitude}\"\n",
    "latlon"
   ]
  },
  {
   "cell_type": "markdown",
   "id": "e868024b-f951-4e1b-8fa4-dec125c1f943",
   "metadata": {},
   "source": [
    "### Search for a specific venue category\n",
    "\n",
    "Assume it's a lunch time and craving for italian food. Let's define a query to search for italian food that is within 500 metres from Conrad Hotel"
   ]
  },
  {
   "cell_type": "code",
   "execution_count": 5,
   "id": "5b2ecd1d-45cf-4319-91d9-93b69510903c",
   "metadata": {},
   "outputs": [],
   "source": [
    "url = \"https://api.foursquare.com/v2/venues/search\"\n",
    "params = dict(\n",
    "    client_id=api_key,\n",
    "    client_secret=api_secret,\n",
    "    v=\"20210623\",\n",
    "    ll=latlon,\n",
    "    oauth_token=access_token,\n",
    "    query=\"Italian\",\n",
    "    radius=500,\n",
    "    limit=10\n",
    ")"
   ]
  },
  {
   "cell_type": "code",
   "execution_count": 6,
   "id": "758e3b57-7c16-4f9b-841f-20a91cf456ad",
   "metadata": {},
   "outputs": [],
   "source": [
    "results = requests.get(url=url, params=params)"
   ]
  },
  {
   "cell_type": "code",
   "execution_count": 7,
   "id": "5f7f5ca7-98a1-4959-97a0-ff94000b1a7d",
   "metadata": {},
   "outputs": [
    {
     "data": {
      "text/plain": [
       "<Response [200]>"
      ]
     },
     "execution_count": 7,
     "metadata": {},
     "output_type": "execute_result"
    }
   ],
   "source": [
    "results"
   ]
  },
  {
   "cell_type": "code",
   "execution_count": 8,
   "id": "31588293-d2e7-4568-9e84-6ffe8093a6c1",
   "metadata": {},
   "outputs": [],
   "source": [
    "results = json.loads(results.text)"
   ]
  },
  {
   "cell_type": "code",
   "execution_count": 9,
   "id": "2eadcba1-386a-47d8-b247-6ad8782f9d20",
   "metadata": {},
   "outputs": [
    {
     "data": {
      "text/html": [
       "<div>\n",
       "<style scoped>\n",
       "    .dataframe tbody tr th:only-of-type {\n",
       "        vertical-align: middle;\n",
       "    }\n",
       "\n",
       "    .dataframe tbody tr th {\n",
       "        vertical-align: top;\n",
       "    }\n",
       "\n",
       "    .dataframe thead th {\n",
       "        text-align: right;\n",
       "    }\n",
       "</style>\n",
       "<table border=\"1\" class=\"dataframe\">\n",
       "  <thead>\n",
       "    <tr style=\"text-align: right;\">\n",
       "      <th></th>\n",
       "      <th>id</th>\n",
       "      <th>name</th>\n",
       "      <th>categories</th>\n",
       "      <th>referralId</th>\n",
       "      <th>hasPerk</th>\n",
       "      <th>location.address</th>\n",
       "      <th>location.lat</th>\n",
       "      <th>location.lng</th>\n",
       "      <th>location.labeledLatLngs</th>\n",
       "      <th>location.distance</th>\n",
       "      <th>location.postalCode</th>\n",
       "      <th>location.cc</th>\n",
       "      <th>location.city</th>\n",
       "      <th>location.state</th>\n",
       "      <th>location.country</th>\n",
       "      <th>location.formattedAddress</th>\n",
       "    </tr>\n",
       "  </thead>\n",
       "  <tbody>\n",
       "    <tr>\n",
       "      <th>0</th>\n",
       "      <td>4fa862b3e4b0ebff2f749f06</td>\n",
       "      <td>Harry's Italian Pizza Bar</td>\n",
       "      <td>[{'id': '4bf58dd8d48988d1ca941735', 'name': 'P...</td>\n",
       "      <td>v-1624539397</td>\n",
       "      <td>False</td>\n",
       "      <td>225 Murray St</td>\n",
       "      <td>40.715218</td>\n",
       "      <td>-74.014739</td>\n",
       "      <td>[{'label': 'display', 'lat': 40.71521779064671...</td>\n",
       "      <td>58</td>\n",
       "      <td>10282</td>\n",
       "      <td>US</td>\n",
       "      <td>New York</td>\n",
       "      <td>NY</td>\n",
       "      <td>United States</td>\n",
       "      <td>[225 Murray St, New York, NY 10282, United Sta...</td>\n",
       "    </tr>\n",
       "    <tr>\n",
       "      <th>1</th>\n",
       "      <td>4f3232e219836c91c7bfde94</td>\n",
       "      <td>Conca Cucina Italian Restaurant</td>\n",
       "      <td>[{'id': '4d4b7105d754a06374d81259', 'name': 'F...</td>\n",
       "      <td>v-1624539397</td>\n",
       "      <td>False</td>\n",
       "      <td>63 W Broadway</td>\n",
       "      <td>40.714484</td>\n",
       "      <td>-74.009806</td>\n",
       "      <td>[{'label': 'display', 'lat': 40.71448400000000...</td>\n",
       "      <td>469</td>\n",
       "      <td>10007</td>\n",
       "      <td>US</td>\n",
       "      <td>New York</td>\n",
       "      <td>NY</td>\n",
       "      <td>United States</td>\n",
       "      <td>[63 W Broadway, New York, NY 10007, United Sta...</td>\n",
       "    </tr>\n",
       "  </tbody>\n",
       "</table>\n",
       "</div>"
      ],
      "text/plain": [
       "                         id                             name  \\\n",
       "0  4fa862b3e4b0ebff2f749f06        Harry's Italian Pizza Bar   \n",
       "1  4f3232e219836c91c7bfde94  Conca Cucina Italian Restaurant   \n",
       "\n",
       "                                          categories    referralId  hasPerk  \\\n",
       "0  [{'id': '4bf58dd8d48988d1ca941735', 'name': 'P...  v-1624539397    False   \n",
       "1  [{'id': '4d4b7105d754a06374d81259', 'name': 'F...  v-1624539397    False   \n",
       "\n",
       "  location.address  location.lat  location.lng  \\\n",
       "0    225 Murray St     40.715218    -74.014739   \n",
       "1    63 W Broadway     40.714484    -74.009806   \n",
       "\n",
       "                             location.labeledLatLngs  location.distance  \\\n",
       "0  [{'label': 'display', 'lat': 40.71521779064671...                 58   \n",
       "1  [{'label': 'display', 'lat': 40.71448400000000...                469   \n",
       "\n",
       "  location.postalCode location.cc location.city location.state  \\\n",
       "0               10282          US      New York             NY   \n",
       "1               10007          US      New York             NY   \n",
       "\n",
       "  location.country                          location.formattedAddress  \n",
       "0    United States  [225 Murray St, New York, NY 10282, United Sta...  \n",
       "1    United States  [63 W Broadway, New York, NY 10007, United Sta...  "
      ]
     },
     "execution_count": 9,
     "metadata": {},
     "output_type": "execute_result"
    }
   ],
   "source": [
    "venues = results['response']['venues']\n",
    "df = pd.json_normalize(venues)\n",
    "df.head()"
   ]
  },
  {
   "cell_type": "markdown",
   "id": "0d303c5d-d2ca-4410-939f-ceae891aa3ba",
   "metadata": {},
   "source": [
    "### define information of interest and filter dataframe"
   ]
  },
  {
   "cell_type": "code",
   "execution_count": 10,
   "id": "c1b88a89-f9f6-49d6-a3cf-358c0b4ef709",
   "metadata": {},
   "outputs": [
    {
     "data": {
      "text/html": [
       "<div>\n",
       "<style scoped>\n",
       "    .dataframe tbody tr th:only-of-type {\n",
       "        vertical-align: middle;\n",
       "    }\n",
       "\n",
       "    .dataframe tbody tr th {\n",
       "        vertical-align: top;\n",
       "    }\n",
       "\n",
       "    .dataframe thead th {\n",
       "        text-align: right;\n",
       "    }\n",
       "</style>\n",
       "<table border=\"1\" class=\"dataframe\">\n",
       "  <thead>\n",
       "    <tr style=\"text-align: right;\">\n",
       "      <th></th>\n",
       "      <th>id</th>\n",
       "      <th>name</th>\n",
       "      <th>categories</th>\n",
       "      <th>location.address</th>\n",
       "      <th>location.lat</th>\n",
       "      <th>location.lng</th>\n",
       "      <th>location.labeledLatLngs</th>\n",
       "      <th>location.distance</th>\n",
       "      <th>location.postalCode</th>\n",
       "      <th>location.cc</th>\n",
       "      <th>location.city</th>\n",
       "      <th>location.state</th>\n",
       "      <th>location.country</th>\n",
       "      <th>location.formattedAddress</th>\n",
       "    </tr>\n",
       "  </thead>\n",
       "  <tbody>\n",
       "    <tr>\n",
       "      <th>0</th>\n",
       "      <td>4fa862b3e4b0ebff2f749f06</td>\n",
       "      <td>Harry's Italian Pizza Bar</td>\n",
       "      <td>[{'id': '4bf58dd8d48988d1ca941735', 'name': 'P...</td>\n",
       "      <td>225 Murray St</td>\n",
       "      <td>40.715218</td>\n",
       "      <td>-74.014739</td>\n",
       "      <td>[{'label': 'display', 'lat': 40.71521779064671...</td>\n",
       "      <td>58</td>\n",
       "      <td>10282</td>\n",
       "      <td>US</td>\n",
       "      <td>New York</td>\n",
       "      <td>NY</td>\n",
       "      <td>United States</td>\n",
       "      <td>[225 Murray St, New York, NY 10282, United Sta...</td>\n",
       "    </tr>\n",
       "    <tr>\n",
       "      <th>1</th>\n",
       "      <td>4f3232e219836c91c7bfde94</td>\n",
       "      <td>Conca Cucina Italian Restaurant</td>\n",
       "      <td>[{'id': '4d4b7105d754a06374d81259', 'name': 'F...</td>\n",
       "      <td>63 W Broadway</td>\n",
       "      <td>40.714484</td>\n",
       "      <td>-74.009806</td>\n",
       "      <td>[{'label': 'display', 'lat': 40.71448400000000...</td>\n",
       "      <td>469</td>\n",
       "      <td>10007</td>\n",
       "      <td>US</td>\n",
       "      <td>New York</td>\n",
       "      <td>NY</td>\n",
       "      <td>United States</td>\n",
       "      <td>[63 W Broadway, New York, NY 10007, United Sta...</td>\n",
       "    </tr>\n",
       "  </tbody>\n",
       "</table>\n",
       "</div>"
      ],
      "text/plain": [
       "                         id                             name  \\\n",
       "0  4fa862b3e4b0ebff2f749f06        Harry's Italian Pizza Bar   \n",
       "1  4f3232e219836c91c7bfde94  Conca Cucina Italian Restaurant   \n",
       "\n",
       "                                          categories location.address  \\\n",
       "0  [{'id': '4bf58dd8d48988d1ca941735', 'name': 'P...    225 Murray St   \n",
       "1  [{'id': '4d4b7105d754a06374d81259', 'name': 'F...    63 W Broadway   \n",
       "\n",
       "   location.lat  location.lng  \\\n",
       "0     40.715218    -74.014739   \n",
       "1     40.714484    -74.009806   \n",
       "\n",
       "                             location.labeledLatLngs  location.distance  \\\n",
       "0  [{'label': 'display', 'lat': 40.71521779064671...                 58   \n",
       "1  [{'label': 'display', 'lat': 40.71448400000000...                469   \n",
       "\n",
       "  location.postalCode location.cc location.city location.state  \\\n",
       "0               10282          US      New York             NY   \n",
       "1               10007          US      New York             NY   \n",
       "\n",
       "  location.country                          location.formattedAddress  \n",
       "0    United States  [225 Murray St, New York, NY 10282, United Sta...  \n",
       "1    United States  [63 W Broadway, New York, NY 10007, United Sta...  "
      ]
     },
     "execution_count": 10,
     "metadata": {},
     "output_type": "execute_result"
    }
   ],
   "source": [
    "filtered_columns = ['id', 'name', 'categories']\n",
    "filtered_columns.extend([col for col in df.columns if col.startswith('location')])\n",
    "df_filtered = df.loc[:, filtered_columns]\n",
    "df_filtered"
   ]
  },
  {
   "cell_type": "markdown",
   "id": "a4584b2b-87fe-4894-8e0a-811ba5f28e3c",
   "metadata": {},
   "source": [
    "### visualize the map"
   ]
  },
  {
   "cell_type": "code",
   "execution_count": 11,
   "id": "640c79f3-3288-476d-a6f5-186ac395b0db",
   "metadata": {},
   "outputs": [
    {
     "data": {
      "text/plain": [
       "0          Harry's Italian Pizza Bar\n",
       "1    Conca Cucina Italian Restaurant\n",
       "Name: name, dtype: object"
      ]
     },
     "execution_count": 11,
     "metadata": {},
     "output_type": "execute_result"
    }
   ],
   "source": [
    "restaurants = df_filtered.name\n",
    "restaurants"
   ]
  },
  {
   "cell_type": "code",
   "execution_count": 12,
   "id": "8bd40a88-9b9f-4f1a-8f8a-c50014e73a68",
   "metadata": {},
   "outputs": [
    {
     "data": {
      "text/html": [
       "<div style=\"width:100%;\"><div style=\"position:relative;width:100%;height:0;padding-bottom:60%;\"><span style=\"color:#565656\">Make this Notebook Trusted to load map: File -> Trust Notebook</span><iframe src=\"about:blank\" style=\"position:absolute;width:100%;height:100%;left:0;top:0;border:none !important;\" data-html=%3C%21DOCTYPE%20html%3E%0A%3Chead%3E%20%20%20%20%0A%20%20%20%20%3Cmeta%20http-equiv%3D%22content-type%22%20content%3D%22text/html%3B%20charset%3DUTF-8%22%20/%3E%0A%20%20%20%20%0A%20%20%20%20%20%20%20%20%3Cscript%3E%0A%20%20%20%20%20%20%20%20%20%20%20%20L_NO_TOUCH%20%3D%20false%3B%0A%20%20%20%20%20%20%20%20%20%20%20%20L_DISABLE_3D%20%3D%20false%3B%0A%20%20%20%20%20%20%20%20%3C/script%3E%0A%20%20%20%20%0A%20%20%20%20%3Cstyle%3Ehtml%2C%20body%20%7Bwidth%3A%20100%25%3Bheight%3A%20100%25%3Bmargin%3A%200%3Bpadding%3A%200%3B%7D%3C/style%3E%0A%20%20%20%20%3Cstyle%3E%23map%20%7Bposition%3Aabsolute%3Btop%3A0%3Bbottom%3A0%3Bright%3A0%3Bleft%3A0%3B%7D%3C/style%3E%0A%20%20%20%20%3Cscript%20src%3D%22https%3A//cdn.jsdelivr.net/npm/leaflet%401.6.0/dist/leaflet.js%22%3E%3C/script%3E%0A%20%20%20%20%3Cscript%20src%3D%22https%3A//code.jquery.com/jquery-1.12.4.min.js%22%3E%3C/script%3E%0A%20%20%20%20%3Cscript%20src%3D%22https%3A//maxcdn.bootstrapcdn.com/bootstrap/3.2.0/js/bootstrap.min.js%22%3E%3C/script%3E%0A%20%20%20%20%3Cscript%20src%3D%22https%3A//cdnjs.cloudflare.com/ajax/libs/Leaflet.awesome-markers/2.0.2/leaflet.awesome-markers.js%22%3E%3C/script%3E%0A%20%20%20%20%3Clink%20rel%3D%22stylesheet%22%20href%3D%22https%3A//cdn.jsdelivr.net/npm/leaflet%401.6.0/dist/leaflet.css%22/%3E%0A%20%20%20%20%3Clink%20rel%3D%22stylesheet%22%20href%3D%22https%3A//maxcdn.bootstrapcdn.com/bootstrap/3.2.0/css/bootstrap.min.css%22/%3E%0A%20%20%20%20%3Clink%20rel%3D%22stylesheet%22%20href%3D%22https%3A//maxcdn.bootstrapcdn.com/bootstrap/3.2.0/css/bootstrap-theme.min.css%22/%3E%0A%20%20%20%20%3Clink%20rel%3D%22stylesheet%22%20href%3D%22https%3A//maxcdn.bootstrapcdn.com/font-awesome/4.6.3/css/font-awesome.min.css%22/%3E%0A%20%20%20%20%3Clink%20rel%3D%22stylesheet%22%20href%3D%22https%3A//cdnjs.cloudflare.com/ajax/libs/Leaflet.awesome-markers/2.0.2/leaflet.awesome-markers.css%22/%3E%0A%20%20%20%20%3Clink%20rel%3D%22stylesheet%22%20href%3D%22https%3A//cdn.jsdelivr.net/gh/python-visualization/folium/folium/templates/leaflet.awesome.rotate.min.css%22/%3E%0A%20%20%20%20%0A%20%20%20%20%20%20%20%20%20%20%20%20%3Cmeta%20name%3D%22viewport%22%20content%3D%22width%3Ddevice-width%2C%0A%20%20%20%20%20%20%20%20%20%20%20%20%20%20%20%20initial-scale%3D1.0%2C%20maximum-scale%3D1.0%2C%20user-scalable%3Dno%22%20/%3E%0A%20%20%20%20%20%20%20%20%20%20%20%20%3Cstyle%3E%0A%20%20%20%20%20%20%20%20%20%20%20%20%20%20%20%20%23map_93ceac4a7ab14d8ca3836190048e2407%20%7B%0A%20%20%20%20%20%20%20%20%20%20%20%20%20%20%20%20%20%20%20%20position%3A%20relative%3B%0A%20%20%20%20%20%20%20%20%20%20%20%20%20%20%20%20%20%20%20%20width%3A%20100.0%25%3B%0A%20%20%20%20%20%20%20%20%20%20%20%20%20%20%20%20%20%20%20%20height%3A%20100.0%25%3B%0A%20%20%20%20%20%20%20%20%20%20%20%20%20%20%20%20%20%20%20%20left%3A%200.0%25%3B%0A%20%20%20%20%20%20%20%20%20%20%20%20%20%20%20%20%20%20%20%20top%3A%200.0%25%3B%0A%20%20%20%20%20%20%20%20%20%20%20%20%20%20%20%20%7D%0A%20%20%20%20%20%20%20%20%20%20%20%20%3C/style%3E%0A%20%20%20%20%20%20%20%20%0A%3C/head%3E%0A%3Cbody%3E%20%20%20%20%0A%20%20%20%20%0A%20%20%20%20%20%20%20%20%20%20%20%20%3Cdiv%20class%3D%22folium-map%22%20id%3D%22map_93ceac4a7ab14d8ca3836190048e2407%22%20%3E%3C/div%3E%0A%20%20%20%20%20%20%20%20%0A%3C/body%3E%0A%3Cscript%3E%20%20%20%20%0A%20%20%20%20%0A%20%20%20%20%20%20%20%20%20%20%20%20var%20map_93ceac4a7ab14d8ca3836190048e2407%20%3D%20L.map%28%0A%20%20%20%20%20%20%20%20%20%20%20%20%20%20%20%20%22map_93ceac4a7ab14d8ca3836190048e2407%22%2C%0A%20%20%20%20%20%20%20%20%20%20%20%20%20%20%20%20%7B%0A%20%20%20%20%20%20%20%20%20%20%20%20%20%20%20%20%20%20%20%20center%3A%20%5B40.7149555%2C%20-74.0153365%5D%2C%0A%20%20%20%20%20%20%20%20%20%20%20%20%20%20%20%20%20%20%20%20crs%3A%20L.CRS.EPSG3857%2C%0A%20%20%20%20%20%20%20%20%20%20%20%20%20%20%20%20%20%20%20%20zoom%3A%2013%2C%0A%20%20%20%20%20%20%20%20%20%20%20%20%20%20%20%20%20%20%20%20zoomControl%3A%20true%2C%0A%20%20%20%20%20%20%20%20%20%20%20%20%20%20%20%20%20%20%20%20preferCanvas%3A%20false%2C%0A%20%20%20%20%20%20%20%20%20%20%20%20%20%20%20%20%7D%0A%20%20%20%20%20%20%20%20%20%20%20%20%29%3B%0A%0A%20%20%20%20%20%20%20%20%20%20%20%20%0A%0A%20%20%20%20%20%20%20%20%0A%20%20%20%20%0A%20%20%20%20%20%20%20%20%20%20%20%20var%20tile_layer_81c2dd462531461785bd0eb937ce97b0%20%3D%20L.tileLayer%28%0A%20%20%20%20%20%20%20%20%20%20%20%20%20%20%20%20%22https%3A//%7Bs%7D.tile.openstreetmap.org/%7Bz%7D/%7Bx%7D/%7By%7D.png%22%2C%0A%20%20%20%20%20%20%20%20%20%20%20%20%20%20%20%20%7B%22attribution%22%3A%20%22Data%20by%20%5Cu0026copy%3B%20%5Cu003ca%20href%3D%5C%22http%3A//openstreetmap.org%5C%22%5Cu003eOpenStreetMap%5Cu003c/a%5Cu003e%2C%20under%20%5Cu003ca%20href%3D%5C%22http%3A//www.openstreetmap.org/copyright%5C%22%5Cu003eODbL%5Cu003c/a%5Cu003e.%22%2C%20%22detectRetina%22%3A%20false%2C%20%22maxNativeZoom%22%3A%2018%2C%20%22maxZoom%22%3A%2018%2C%20%22minZoom%22%3A%200%2C%20%22noWrap%22%3A%20false%2C%20%22opacity%22%3A%201%2C%20%22subdomains%22%3A%20%22abc%22%2C%20%22tms%22%3A%20false%7D%0A%20%20%20%20%20%20%20%20%20%20%20%20%29.addTo%28map_93ceac4a7ab14d8ca3836190048e2407%29%3B%0A%20%20%20%20%20%20%20%20%0A%20%20%20%20%0A%20%20%20%20%20%20%20%20%20%20%20%20var%20circle_marker_d3b16efc7bbc402c924165688c05da87%20%3D%20L.circleMarker%28%0A%20%20%20%20%20%20%20%20%20%20%20%20%20%20%20%20%5B40.7149555%2C%20-74.0153365%5D%2C%0A%20%20%20%20%20%20%20%20%20%20%20%20%20%20%20%20%7B%22bubblingMouseEvents%22%3A%20true%2C%20%22color%22%3A%20%22red%22%2C%20%22dashArray%22%3A%20null%2C%20%22dashOffset%22%3A%20null%2C%20%22fill%22%3A%20true%2C%20%22fillColor%22%3A%20%22red%22%2C%20%22fillOpacity%22%3A%200.6%2C%20%22fillRule%22%3A%20%22evenodd%22%2C%20%22lineCap%22%3A%20%22round%22%2C%20%22lineJoin%22%3A%20%22round%22%2C%20%22opacity%22%3A%201.0%2C%20%22radius%22%3A%2010%2C%20%22stroke%22%3A%20true%2C%20%22weight%22%3A%203%7D%0A%20%20%20%20%20%20%20%20%20%20%20%20%29.addTo%28map_93ceac4a7ab14d8ca3836190048e2407%29%3B%0A%20%20%20%20%20%20%20%20%0A%20%20%20%20%0A%20%20%20%20%20%20%20%20var%20popup_43c2f6f1fdbc4229899b4695acb502ed%20%3D%20L.popup%28%7B%22maxWidth%22%3A%20%22100%25%22%7D%29%3B%0A%0A%20%20%20%20%20%20%20%20%0A%20%20%20%20%20%20%20%20%20%20%20%20var%20html_d43128424f5d4e80a45c77bb909cbfad%20%3D%20%24%28%60%3Cdiv%20id%3D%22html_d43128424f5d4e80a45c77bb909cbfad%22%20style%3D%22width%3A%20100.0%25%3B%20height%3A%20100.0%25%3B%22%3EConrad%20Hotel%3C/div%3E%60%29%5B0%5D%3B%0A%20%20%20%20%20%20%20%20%20%20%20%20popup_43c2f6f1fdbc4229899b4695acb502ed.setContent%28html_d43128424f5d4e80a45c77bb909cbfad%29%3B%0A%20%20%20%20%20%20%20%20%0A%0A%20%20%20%20%20%20%20%20circle_marker_d3b16efc7bbc402c924165688c05da87.bindPopup%28popup_43c2f6f1fdbc4229899b4695acb502ed%29%0A%20%20%20%20%20%20%20%20%3B%0A%0A%20%20%20%20%20%20%20%20%0A%20%20%20%20%0A%20%20%20%20%0A%20%20%20%20%20%20%20%20%20%20%20%20var%20circle_marker_cde3d150b55c4e10ac01ce93e714bf4a%20%3D%20L.circleMarker%28%0A%20%20%20%20%20%20%20%20%20%20%20%20%20%20%20%20%5B40.71521779064671%2C%20-74.01473940209351%5D%2C%0A%20%20%20%20%20%20%20%20%20%20%20%20%20%20%20%20%7B%22bubblingMouseEvents%22%3A%20true%2C%20%22color%22%3A%20%22blue%22%2C%20%22dashArray%22%3A%20null%2C%20%22dashOffset%22%3A%20null%2C%20%22fill%22%3A%20true%2C%20%22fillColor%22%3A%20%22blue%22%2C%20%22fillOpacity%22%3A%200.6%2C%20%22fillRule%22%3A%20%22evenodd%22%2C%20%22lineCap%22%3A%20%22round%22%2C%20%22lineJoin%22%3A%20%22round%22%2C%20%22opacity%22%3A%201.0%2C%20%22radius%22%3A%205%2C%20%22stroke%22%3A%20true%2C%20%22weight%22%3A%203%7D%0A%20%20%20%20%20%20%20%20%20%20%20%20%29.addTo%28map_93ceac4a7ab14d8ca3836190048e2407%29%3B%0A%20%20%20%20%20%20%20%20%0A%20%20%20%20%0A%20%20%20%20%20%20%20%20var%20popup_61b603d58bdb41d5a7e52d24a8d1c4d6%20%3D%20L.popup%28%7B%22maxWidth%22%3A%20%22100%25%22%7D%29%3B%0A%0A%20%20%20%20%20%20%20%20%0A%20%20%20%20%20%20%20%20%20%20%20%20var%20html_ae42fbe472ef4d6895544a243c6e33df%20%3D%20%24%28%60%3Cdiv%20id%3D%22html_ae42fbe472ef4d6895544a243c6e33df%22%20style%3D%22width%3A%20100.0%25%3B%20height%3A%20100.0%25%3B%22%3E%5B%7B%27id%27%3A%20%274bf58dd8d48988d1ca941735%27%2C%20%27name%27%3A%20%27Pizza%20Place%27%2C%20%27pluralName%27%3A%20%27Pizza%20Places%27%2C%20%27shortName%27%3A%20%27Pizza%27%2C%20%27icon%27%3A%20%7B%27prefix%27%3A%20%27https%3A//ss3.4sqi.net/img/categories_v2/food/pizza_%27%2C%20%27suffix%27%3A%20%27.png%27%7D%2C%20%27primary%27%3A%20True%7D%5D%3C/div%3E%60%29%5B0%5D%3B%0A%20%20%20%20%20%20%20%20%20%20%20%20popup_61b603d58bdb41d5a7e52d24a8d1c4d6.setContent%28html_ae42fbe472ef4d6895544a243c6e33df%29%3B%0A%20%20%20%20%20%20%20%20%0A%0A%20%20%20%20%20%20%20%20circle_marker_cde3d150b55c4e10ac01ce93e714bf4a.bindPopup%28popup_61b603d58bdb41d5a7e52d24a8d1c4d6%29%0A%20%20%20%20%20%20%20%20%3B%0A%0A%20%20%20%20%20%20%20%20%0A%20%20%20%20%0A%20%20%20%20%0A%20%20%20%20%20%20%20%20%20%20%20%20var%20circle_marker_e0c3c017ea08401eba4652256b12e9b5%20%3D%20L.circleMarker%28%0A%20%20%20%20%20%20%20%20%20%20%20%20%20%20%20%20%5B40.714484000000006%2C%20-74.00980600000001%5D%2C%0A%20%20%20%20%20%20%20%20%20%20%20%20%20%20%20%20%7B%22bubblingMouseEvents%22%3A%20true%2C%20%22color%22%3A%20%22blue%22%2C%20%22dashArray%22%3A%20null%2C%20%22dashOffset%22%3A%20null%2C%20%22fill%22%3A%20true%2C%20%22fillColor%22%3A%20%22blue%22%2C%20%22fillOpacity%22%3A%200.6%2C%20%22fillRule%22%3A%20%22evenodd%22%2C%20%22lineCap%22%3A%20%22round%22%2C%20%22lineJoin%22%3A%20%22round%22%2C%20%22opacity%22%3A%201.0%2C%20%22radius%22%3A%205%2C%20%22stroke%22%3A%20true%2C%20%22weight%22%3A%203%7D%0A%20%20%20%20%20%20%20%20%20%20%20%20%29.addTo%28map_93ceac4a7ab14d8ca3836190048e2407%29%3B%0A%20%20%20%20%20%20%20%20%0A%20%20%20%20%0A%20%20%20%20%20%20%20%20var%20popup_0e45688e307e41cea5bb53fe1d03c501%20%3D%20L.popup%28%7B%22maxWidth%22%3A%20%22100%25%22%7D%29%3B%0A%0A%20%20%20%20%20%20%20%20%0A%20%20%20%20%20%20%20%20%20%20%20%20var%20html_bbc6837ae2ea46ed9696aaabb9cdfa70%20%3D%20%24%28%60%3Cdiv%20id%3D%22html_bbc6837ae2ea46ed9696aaabb9cdfa70%22%20style%3D%22width%3A%20100.0%25%3B%20height%3A%20100.0%25%3B%22%3E%5B%7B%27id%27%3A%20%274d4b7105d754a06374d81259%27%2C%20%27name%27%3A%20%27Food%27%2C%20%27pluralName%27%3A%20%27Food%27%2C%20%27shortName%27%3A%20%27Food%27%2C%20%27icon%27%3A%20%7B%27prefix%27%3A%20%27https%3A//ss3.4sqi.net/img/categories_v2/food/default_%27%2C%20%27suffix%27%3A%20%27.png%27%7D%2C%20%27primary%27%3A%20True%7D%5D%3C/div%3E%60%29%5B0%5D%3B%0A%20%20%20%20%20%20%20%20%20%20%20%20popup_0e45688e307e41cea5bb53fe1d03c501.setContent%28html_bbc6837ae2ea46ed9696aaabb9cdfa70%29%3B%0A%20%20%20%20%20%20%20%20%0A%0A%20%20%20%20%20%20%20%20circle_marker_e0c3c017ea08401eba4652256b12e9b5.bindPopup%28popup_0e45688e307e41cea5bb53fe1d03c501%29%0A%20%20%20%20%20%20%20%20%3B%0A%0A%20%20%20%20%20%20%20%20%0A%20%20%20%20%0A%3C/script%3E onload=\"this.contentDocument.open();this.contentDocument.write(    decodeURIComponent(this.getAttribute('data-html')));this.contentDocument.close();\" allowfullscreen webkitallowfullscreen mozallowfullscreen></iframe></div></div>"
      ],
      "text/plain": [
       "<folium.folium.Map at 0x7fc7c0269550>"
      ]
     },
     "execution_count": 12,
     "metadata": {},
     "output_type": "execute_result"
    }
   ],
   "source": [
    "venues_map = folium.Map(location=[latitude, longitude], zoom_start=13)\n",
    "\n",
    "# add a red circle marker to represent Conrad Hotel\n",
    "folium.CircleMarker(\n",
    "    [latitude, longitude],\n",
    "    radius=10,\n",
    "    color='red',\n",
    "    popup='Conrad Hotel',\n",
    "    fill=True,\n",
    "    fill_color='red',\n",
    "    fill_opacity=0.6\n",
    ").add_to(venues_map)\n",
    "\n",
    "# add the italian restaurants as blue circle markers\n",
    "for lat, long, label in zip(df_filtered['location.lat'], df_filtered['location.lng'], df_filtered.categories):\n",
    "    folium.CircleMarker(\n",
    "        [lat, long],\n",
    "        radius=5,\n",
    "        color='blue',\n",
    "        popup=label,\n",
    "        fill=True,\n",
    "        fill_color='blue',\n",
    "        fill_opacity=0.6\n",
    "    ).add_to(venues_map)\n",
    "\n",
    "# display map\n",
    "venues_map"
   ]
  },
  {
   "cell_type": "markdown",
   "id": "04bbb68c-faf7-4056-9ca4-6a88260c8159",
   "metadata": {},
   "source": [
    "## Explore a given venue\n",
    "\n",
    "### Let's explore the closest Italian Restaurant -- Harry's Italian Pizza Bar"
   ]
  },
  {
   "cell_type": "code",
   "execution_count": 13,
   "id": "b26af950-a70e-405b-9916-d2a99873e553",
   "metadata": {},
   "outputs": [
    {
     "data": {
      "text/html": [
       "<div>\n",
       "<style scoped>\n",
       "    .dataframe tbody tr th:only-of-type {\n",
       "        vertical-align: middle;\n",
       "    }\n",
       "\n",
       "    .dataframe tbody tr th {\n",
       "        vertical-align: top;\n",
       "    }\n",
       "\n",
       "    .dataframe thead th {\n",
       "        text-align: right;\n",
       "    }\n",
       "</style>\n",
       "<table border=\"1\" class=\"dataframe\">\n",
       "  <thead>\n",
       "    <tr style=\"text-align: right;\">\n",
       "      <th></th>\n",
       "      <th>id</th>\n",
       "      <th>name</th>\n",
       "      <th>categories</th>\n",
       "      <th>location.address</th>\n",
       "      <th>location.lat</th>\n",
       "      <th>location.lng</th>\n",
       "      <th>location.labeledLatLngs</th>\n",
       "      <th>location.distance</th>\n",
       "      <th>location.postalCode</th>\n",
       "      <th>location.cc</th>\n",
       "      <th>location.city</th>\n",
       "      <th>location.state</th>\n",
       "      <th>location.country</th>\n",
       "      <th>location.formattedAddress</th>\n",
       "    </tr>\n",
       "  </thead>\n",
       "  <tbody>\n",
       "    <tr>\n",
       "      <th>0</th>\n",
       "      <td>4fa862b3e4b0ebff2f749f06</td>\n",
       "      <td>Harry's Italian Pizza Bar</td>\n",
       "      <td>[{'id': '4bf58dd8d48988d1ca941735', 'name': 'P...</td>\n",
       "      <td>225 Murray St</td>\n",
       "      <td>40.715218</td>\n",
       "      <td>-74.014739</td>\n",
       "      <td>[{'label': 'display', 'lat': 40.71521779064671...</td>\n",
       "      <td>58</td>\n",
       "      <td>10282</td>\n",
       "      <td>US</td>\n",
       "      <td>New York</td>\n",
       "      <td>NY</td>\n",
       "      <td>United States</td>\n",
       "      <td>[225 Murray St, New York, NY 10282, United Sta...</td>\n",
       "    </tr>\n",
       "    <tr>\n",
       "      <th>1</th>\n",
       "      <td>4f3232e219836c91c7bfde94</td>\n",
       "      <td>Conca Cucina Italian Restaurant</td>\n",
       "      <td>[{'id': '4d4b7105d754a06374d81259', 'name': 'F...</td>\n",
       "      <td>63 W Broadway</td>\n",
       "      <td>40.714484</td>\n",
       "      <td>-74.009806</td>\n",
       "      <td>[{'label': 'display', 'lat': 40.71448400000000...</td>\n",
       "      <td>469</td>\n",
       "      <td>10007</td>\n",
       "      <td>US</td>\n",
       "      <td>New York</td>\n",
       "      <td>NY</td>\n",
       "      <td>United States</td>\n",
       "      <td>[63 W Broadway, New York, NY 10007, United Sta...</td>\n",
       "    </tr>\n",
       "  </tbody>\n",
       "</table>\n",
       "</div>"
      ],
      "text/plain": [
       "                         id                             name  \\\n",
       "0  4fa862b3e4b0ebff2f749f06        Harry's Italian Pizza Bar   \n",
       "1  4f3232e219836c91c7bfde94  Conca Cucina Italian Restaurant   \n",
       "\n",
       "                                          categories location.address  \\\n",
       "0  [{'id': '4bf58dd8d48988d1ca941735', 'name': 'P...    225 Murray St   \n",
       "1  [{'id': '4d4b7105d754a06374d81259', 'name': 'F...    63 W Broadway   \n",
       "\n",
       "   location.lat  location.lng  \\\n",
       "0     40.715218    -74.014739   \n",
       "1     40.714484    -74.009806   \n",
       "\n",
       "                             location.labeledLatLngs  location.distance  \\\n",
       "0  [{'label': 'display', 'lat': 40.71521779064671...                 58   \n",
       "1  [{'label': 'display', 'lat': 40.71448400000000...                469   \n",
       "\n",
       "  location.postalCode location.cc location.city location.state  \\\n",
       "0               10282          US      New York             NY   \n",
       "1               10007          US      New York             NY   \n",
       "\n",
       "  location.country                          location.formattedAddress  \n",
       "0    United States  [225 Murray St, New York, NY 10282, United Sta...  \n",
       "1    United States  [63 W Broadway, New York, NY 10007, United Sta...  "
      ]
     },
     "execution_count": 13,
     "metadata": {},
     "output_type": "execute_result"
    }
   ],
   "source": [
    "df_filtered"
   ]
  },
  {
   "cell_type": "code",
   "execution_count": 14,
   "id": "dba09da1-e4c8-4c6b-914f-7d903d9802a2",
   "metadata": {},
   "outputs": [
    {
     "data": {
      "text/plain": [
       "'4fa862b3e4b0ebff2f749f06'"
      ]
     },
     "execution_count": 14,
     "metadata": {},
     "output_type": "execute_result"
    }
   ],
   "source": [
    "venue_id = df_filtered.id.values[0]\n",
    "venue_id"
   ]
  },
  {
   "cell_type": "code",
   "execution_count": 32,
   "id": "98ff7cf6-4a93-41ed-874b-fe8e87119c84",
   "metadata": {},
   "outputs": [],
   "source": [
    "url_venue = f\"https://api.foursquare.com/v2/venues/{venue_id}\"\n",
    "params = dict(\n",
    "    client_id=api_key,\n",
    "    client_secret=api_secret,\n",
    "    oauth_token=access_token,\n",
    "    v='20210624'\n",
    ")\n",
    "\n",
    "results = requests.get(url=url_venue, params=params)"
   ]
  },
  {
   "cell_type": "code",
   "execution_count": 33,
   "id": "8ccbaa70-8559-410d-b9ad-7626285b092d",
   "metadata": {},
   "outputs": [
    {
     "data": {
      "text/plain": [
       "<Response [200]>"
      ]
     },
     "execution_count": 33,
     "metadata": {},
     "output_type": "execute_result"
    }
   ],
   "source": [
    "results"
   ]
  },
  {
   "cell_type": "code",
   "execution_count": 36,
   "id": "ea8171b7-3c7c-4d7f-9f7b-c6251b1ae028",
   "metadata": {},
   "outputs": [
    {
     "data": {
      "text/plain": [
       "dict_keys(['id', 'name', 'contact', 'location', 'canonicalUrl', 'categories', 'verified', 'stats', 'url', 'price', 'hasMenu', 'likes', 'like', 'dislike', 'ok', 'rating', 'ratingColor', 'ratingSignals', 'menu', 'allowMenuUrlEdit', 'beenHere', 'specials', 'photos', 'reasons', 'hereNow', 'createdAt', 'tips', 'shortUrl', 'timeZone', 'listed', 'hours', 'popular', 'seasonalHours', 'defaultHours', 'pageUpdates', 'inbox', 'attributes', 'bestPhoto', 'colors'])"
      ]
     },
     "execution_count": 36,
     "metadata": {},
     "output_type": "execute_result"
    }
   ],
   "source": [
    "res_json = results.json()\n",
    "res_json['response']['venue'].keys()"
   ]
  },
  {
   "cell_type": "code",
   "execution_count": 37,
   "id": "931d8244-7545-4363-8119-d39e9022fbf8",
   "metadata": {},
   "outputs": [
    {
     "data": {
      "text/plain": [
       "6.3"
      ]
     },
     "execution_count": 37,
     "metadata": {},
     "output_type": "execute_result"
    }
   ],
   "source": [
    "res_json['response']['venue']['rating']"
   ]
  },
  {
   "cell_type": "code",
   "execution_count": 38,
   "id": "e7fbd739-3212-4544-8b5b-0b0888225ab4",
   "metadata": {},
   "outputs": [
    {
     "data": {
      "text/plain": [
       "{'count': 121,\n",
       " 'groups': [{'type': 'others', 'count': 121, 'items': []}],\n",
       " 'summary': '121 Likes'}"
      ]
     },
     "execution_count": 38,
     "metadata": {},
     "output_type": "execute_result"
    }
   ],
   "source": [
    "res_json['response']['venue']['likes']"
   ]
  },
  {
   "cell_type": "code",
   "execution_count": 39,
   "id": "1e024019-6997-47c2-9312-751ee70b3561",
   "metadata": {},
   "outputs": [
    {
     "data": {
      "text/plain": [
       "False"
      ]
     },
     "execution_count": 39,
     "metadata": {},
     "output_type": "execute_result"
    }
   ],
   "source": [
    "res_json['response']['venue']['dislike']"
   ]
  },
  {
   "cell_type": "code",
   "execution_count": 40,
   "id": "8c2f9feb-9f90-4644-b472-aa761bfdb107",
   "metadata": {},
   "outputs": [
    {
     "data": {
      "text/plain": [
       "False"
      ]
     },
     "execution_count": 40,
     "metadata": {},
     "output_type": "execute_result"
    }
   ],
   "source": [
    "res_json['response']['venue']['like']"
   ]
  },
  {
   "cell_type": "markdown",
   "id": "1dc7cc60-0755-4b18-9074-65b7c5c53bc5",
   "metadata": {},
   "source": [
    "### let's explore other one"
   ]
  },
  {
   "cell_type": "code",
   "execution_count": 41,
   "id": "d548ec76-26b2-4025-b0b7-60fb85d40e07",
   "metadata": {},
   "outputs": [],
   "source": [
    "venue_id = df_filtered.id.values[1]\n",
    "url_venue2 = f\"https://api.foursquare.com/v2/venues/{venue_id}\"\n",
    "params = dict(\n",
    "    client_id=api_key,\n",
    "    client_secret=api_secret,\n",
    "    oauth_token=access_token,\n",
    "    v='20210624'\n",
    ")\n",
    "\n",
    "results2 = requests.get(url=url_venue2, params=params)"
   ]
  },
  {
   "cell_type": "code",
   "execution_count": 42,
   "id": "38bcbbe8-acd0-4931-a629-80aea167ef4e",
   "metadata": {},
   "outputs": [
    {
     "data": {
      "text/plain": [
       "<Response [200]>"
      ]
     },
     "execution_count": 42,
     "metadata": {},
     "output_type": "execute_result"
    }
   ],
   "source": [
    "results2"
   ]
  },
  {
   "cell_type": "code",
   "execution_count": 43,
   "id": "cf9a6e1e-c108-4317-a76e-f98ef25441ea",
   "metadata": {},
   "outputs": [],
   "source": [
    "res2_json = results2.json()\n",
    "ven2 = res2_json['response']['venue']"
   ]
  },
  {
   "cell_type": "code",
   "execution_count": 47,
   "id": "1636afbe-d0a8-4f04-9775-fdd612a34751",
   "metadata": {},
   "outputs": [
    {
     "data": {
      "text/plain": [
       "dict_keys(['id', 'name', 'contact', 'location', 'canonicalUrl', 'categories', 'verified', 'stats', 'likes', 'like', 'dislike', 'ok', 'allowMenuUrlEdit', 'beenHere', 'specials', 'photos', 'reasons', 'hereNow', 'createdAt', 'tips', 'shortUrl', 'timeZone', 'listed', 'seasonalHours', 'pageUpdates', 'inbox', 'attributes'])"
      ]
     },
     "execution_count": 47,
     "metadata": {},
     "output_type": "execute_result"
    }
   ],
   "source": [
    "ven2.keys()"
   ]
  },
  {
   "cell_type": "code",
   "execution_count": 48,
   "id": "7c1a0482-b203-4f9d-915f-a94e207bcef1",
   "metadata": {},
   "outputs": [
    {
     "data": {
      "text/plain": [
       "{'count': 1,\n",
       " 'groups': [{'type': 'others',\n",
       "   'count': 1,\n",
       "   'items': [{'id': '587297293',\n",
       "     'firstName': 'Dilshan',\n",
       "     'lastName': 'Kanagaratnam',\n",
       "     'gender': 'none',\n",
       "     'countryCode': 'LK',\n",
       "     'photo': {'prefix': 'https://fastly.4sqi.net/img/user/',\n",
       "      'suffix': '/blank_boy.png',\n",
       "      'default': True}}]}],\n",
       " 'summary': 'Dilshan Kanagaratnam'}"
      ]
     },
     "execution_count": 48,
     "metadata": {},
     "output_type": "execute_result"
    }
   ],
   "source": [
    "ven2['likes']"
   ]
  },
  {
   "cell_type": "code",
   "execution_count": 49,
   "id": "e3a9d6ac-fff0-431e-bd80-861e8d4ce3e1",
   "metadata": {},
   "outputs": [
    {
     "data": {
      "text/plain": [
       "{'count': 0, 'groups': []}"
      ]
     },
     "execution_count": 49,
     "metadata": {},
     "output_type": "execute_result"
    }
   ],
   "source": [
    "ven2['tips']"
   ]
  },
  {
   "cell_type": "markdown",
   "id": "9274317f-c017-40be-88a8-e6ed626132e8",
   "metadata": {},
   "source": [
    "check tips of Harry's"
   ]
  },
  {
   "cell_type": "code",
   "execution_count": 50,
   "id": "5e92d28d-cf15-46b1-810d-0b187242c7c3",
   "metadata": {},
   "outputs": [
    {
     "data": {
      "text/plain": [
       "{'count': 56,\n",
       " 'groups': [{'type': 'following',\n",
       "   'name': 'Tips from people you follow',\n",
       "   'count': 0,\n",
       "   'items': []},\n",
       "  {'type': 'others',\n",
       "   'name': 'All tips',\n",
       "   'count': 56,\n",
       "   'items': [{'id': '53d27909498e0523841340b6',\n",
       "     'createdAt': 1406302473,\n",
       "     'text': \"Harry's Italian Pizza bar is known for it's amazing pizza, but did you know that the brunches here are amazing too? Try the Nutella French toast and we know you'll be sold.\",\n",
       "     'type': 'user',\n",
       "     'canonicalUrl': 'https://foursquare.com/item/53d27909498e0523841340b6',\n",
       "     'likes': {'count': 4,\n",
       "      'groups': [{'type': 'others', 'count': 4, 'items': []}],\n",
       "      'summary': '4 likes'},\n",
       "     'like': False,\n",
       "     'logView': True,\n",
       "     'agreeCount': 3,\n",
       "     'disagreeCount': 0,\n",
       "     'todo': {'count': 0},\n",
       "     'user': {'id': '87473404',\n",
       "      'firstName': 'TenantKing.com',\n",
       "      'gender': 'none',\n",
       "      'countryCode': 'US',\n",
       "      'photo': {'prefix': 'https://fastly.4sqi.net/img/user/',\n",
       "       'suffix': '/87473404-HI5DTBTK0HX401CA.png'},\n",
       "      'type': 'page'}}]}]}"
      ]
     },
     "execution_count": 50,
     "metadata": {},
     "output_type": "execute_result"
    }
   ],
   "source": [
    "harrys =  res_json['response']['venue']\n",
    "harrys['tips']"
   ]
  },
  {
   "cell_type": "markdown",
   "id": "a4fe9ff1-ff9a-4fc2-9862-be65078660e6",
   "metadata": {},
   "source": [
    "#### Get Harry's tips"
   ]
  },
  {
   "cell_type": "code",
   "execution_count": 66,
   "id": "6baae285-0f29-4690-a28b-8437c902382a",
   "metadata": {},
   "outputs": [],
   "source": [
    "v_id = df_filtered.id.values[0]\n",
    "url_tips = f\"https://api.foursquare.com/v2/venues/{v_id}/tips\"\n",
    "\n",
    "params = dict(\n",
    "    client_id=api_key,\n",
    "    client_secret=api_secret,\n",
    "    oauth_token=access_token,\n",
    "    v='20210624',\n",
    "    sort='recent',\n",
    "    limit=20,\n",
    "    offset=20\n",
    ")\n",
    "res_tips = requests.get(url=url_tips, params=params)"
   ]
  },
  {
   "cell_type": "code",
   "execution_count": 67,
   "id": "3b01fb19-a0e3-481b-940d-b668b887610a",
   "metadata": {},
   "outputs": [
    {
     "data": {
      "text/plain": [
       "<Response [200]>"
      ]
     },
     "execution_count": 67,
     "metadata": {},
     "output_type": "execute_result"
    }
   ],
   "source": [
    "res_tips"
   ]
  },
  {
   "cell_type": "code",
   "execution_count": 70,
   "id": "de6d0f4e-3bc0-4c2d-881b-8551efeff33f",
   "metadata": {},
   "outputs": [
    {
     "data": {
      "text/plain": [
       "56"
      ]
     },
     "execution_count": 70,
     "metadata": {},
     "output_type": "execute_result"
    }
   ],
   "source": [
    "#  count of tips\n",
    "res_tips.json()['response']['tips']['count']"
   ]
  },
  {
   "cell_type": "code",
   "execution_count": 72,
   "id": "4d44abbb-4b99-476d-92c9-11f95ce256bd",
   "metadata": {},
   "outputs": [],
   "source": [
    "tips = res_tips.json()['response']['tips']['items'][0]"
   ]
  },
  {
   "cell_type": "code",
   "execution_count": 73,
   "id": "a1f29ab1-5926-49e5-939b-838a7b022e65",
   "metadata": {},
   "outputs": [
    {
     "data": {
      "text/plain": [
       "{'id': '5cbda1f5febf31002cac0563',\n",
       " 'createdAt': 1555931637,\n",
       " 'text': 'Classic Square Pizza is the way to go here.',\n",
       " 'type': 'user',\n",
       " 'canonicalUrl': 'https://foursquare.com/item/5cbda1f5febf31002cac0563',\n",
       " 'likes': {'count': 0, 'groups': []},\n",
       " 'like': False,\n",
       " 'logView': True,\n",
       " 'agreeCount': 1,\n",
       " 'disagreeCount': 0,\n",
       " 'todo': {'count': 0},\n",
       " 'user': {'id': '21563126',\n",
       "  'firstName': 'Richard',\n",
       "  'lastName': 'Revilla',\n",
       "  'gender': 'male',\n",
       "  'countryCode': 'US',\n",
       "  'photo': {'prefix': 'https://fastly.4sqi.net/img/user/',\n",
       "   'suffix': '/21563126_v05J1KPw_SVj6Ehq9g8B9jeAGjFUMsU5QGl-NZ8inUQ7pKQm5bKplW37EmR7jS2A7GYPBBAtl.jpg'}},\n",
       " 'authorInteractionType': 'liked'}"
      ]
     },
     "execution_count": 73,
     "metadata": {},
     "output_type": "execute_result"
    }
   ],
   "source": [
    "tips"
   ]
  },
  {
   "cell_type": "code",
   "execution_count": 65,
   "id": "9accd608-00c6-4729-b7a2-36da0da45fad",
   "metadata": {},
   "outputs": [
    {
     "data": {
      "text/plain": [
       "[{'id': '513b95ade4b0ef9359ef0cda',\n",
       "  'createdAt': 1362859437,\n",
       "  'text': 'Great spot! Has a legit bar with a ton of flat screens and plenty of room for drinking, socializing and pizza eating. The food is great. A must go in Financial District!',\n",
       "  'type': 'user',\n",
       "  'canonicalUrl': 'https://foursquare.com/item/513b95ade4b0ef9359ef0cda',\n",
       "  'likes': {'count': 1,\n",
       "   'groups': [{'type': 'others', 'count': 1, 'items': []}],\n",
       "   'summary': '1 like'},\n",
       "  'like': False,\n",
       "  'logView': True,\n",
       "  'agreeCount': 2,\n",
       "  'disagreeCount': 0,\n",
       "  'todo': {'count': 0},\n",
       "  'user': {'id': '6343050',\n",
       "   'firstName': 'Heather',\n",
       "   'lastName': 'Couture',\n",
       "   'gender': 'female',\n",
       "   'countryCode': 'US',\n",
       "   'photo': {'prefix': 'https://fastly.4sqi.net/img/user/',\n",
       "    'suffix': '/CMRXTUXQAIZBQQEX.jpg'}}}]"
      ]
     },
     "execution_count": 65,
     "metadata": {},
     "output_type": "execute_result"
    }
   ],
   "source": [
    "tips"
   ]
  },
  {
   "cell_type": "code",
   "execution_count": null,
   "id": "32f9044a-d0bf-47b4-9c58-62d04a8d7098",
   "metadata": {},
   "outputs": [],
   "source": []
  }
 ],
 "metadata": {
  "kernelspec": {
   "display_name": "capstoneEnv391",
   "language": "python",
   "name": "capstoneenv391"
  },
  "language_info": {
   "codemirror_mode": {
    "name": "ipython",
    "version": 3
   },
   "file_extension": ".py",
   "mimetype": "text/x-python",
   "name": "python",
   "nbconvert_exporter": "python",
   "pygments_lexer": "ipython3",
   "version": "3.9.1"
  }
 },
 "nbformat": 4,
 "nbformat_minor": 5
}
