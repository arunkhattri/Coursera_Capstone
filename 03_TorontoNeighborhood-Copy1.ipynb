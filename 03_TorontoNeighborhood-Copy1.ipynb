{
 "cells": [
  {
   "cell_type": "code",
   "execution_count": 1,
   "id": "0c72c31f-0b70-43e6-9655-e0f995d655e5",
   "metadata": {},
   "outputs": [],
   "source": [
    "import pandas as pd\n",
    "from bs4 import BeautifulSoup as BS\n",
    "import requests\n",
    "import re"
   ]
  },
  {
   "cell_type": "code",
   "execution_count": 2,
   "id": "575e0d7d-3e0c-4ebc-b43e-4d35349c29a1",
   "metadata": {},
   "outputs": [],
   "source": [
    "url = \"https://en.wikipedia.org/wiki/List_of_postal_codes_of_Canada:_M\""
   ]
  },
  {
   "cell_type": "markdown",
   "id": "ba8c63d9-7b53-49ee-81fd-4e4d9e2046f0",
   "metadata": {},
   "source": [
    "## Scrap the wikipedia page for Postal codes of canada"
   ]
  },
  {
   "cell_type": "code",
   "execution_count": 3,
   "id": "426f418e-4cdc-427c-a8c7-147f859ff96f",
   "metadata": {},
   "outputs": [
    {
     "data": {
      "text/plain": [
       "<Response [200]>"
      ]
     },
     "execution_count": 3,
     "metadata": {},
     "output_type": "execute_result"
    }
   ],
   "source": [
    "res = requests.get(url)\n",
    "res"
   ]
  },
  {
   "cell_type": "markdown",
   "id": "04a243fe-4f3d-410b-a988-45011002724f",
   "metadata": {},
   "source": [
    "#### convert the content into soup..."
   ]
  },
  {
   "cell_type": "code",
   "execution_count": 4,
   "id": "b25723eb-48d6-4b93-a221-54f764a6f0e6",
   "metadata": {},
   "outputs": [],
   "source": [
    "soup = BS(res.content, 'html5lib')"
   ]
  },
  {
   "cell_type": "markdown",
   "id": "b28d11ce-b3cf-4c4c-8d13-1cc86b235c5b",
   "metadata": {},
   "source": [
    "#### find all tables, we are interested in the first one..."
   ]
  },
  {
   "cell_type": "code",
   "execution_count": 5,
   "id": "a58dbdca-b6b1-4e8b-8dc5-e41be96417e9",
   "metadata": {},
   "outputs": [],
   "source": [
    "table = soup.find_all('table')[0]"
   ]
  },
  {
   "cell_type": "markdown",
   "id": "029c83d6-3d25-41cd-950b-9e31f413b8b4",
   "metadata": {},
   "source": [
    "**Note**:\n",
    "* leaving \"Not assigned\" postal codes.\n",
    "* collecting postal codes in a dict, postal code as key and borough and neighborhood as values to keep sanity intact.\n",
    "* later on will separate them in a dict as postal code, borough and neighborhood."
   ]
  },
  {
   "cell_type": "code",
   "execution_count": 6,
   "id": "bb4bf61d-40ed-401b-b30b-bd6b85abbb96",
   "metadata": {},
   "outputs": [
    {
     "name": "stdout",
     "output_type": "stream",
     "text": [
      "data_dict keys count: 103\n"
     ]
    }
   ],
   "source": [
    "data_dict = dict()\n",
    "\n",
    "for row in table.find_all('tr'):\n",
    "    for col in row.find_all('td'):\n",
    "        pc = col.find('b').get_text()\n",
    "        b_n = col.find_all('span')[0].get_text()\n",
    "        if b_n != \"Not assigned\":\n",
    "            m1 = re.search(r'(?<=\\()[a-zA-z/ ]+', b_n)\n",
    "            m2 = re.search(r'[a-zA-Z ]+', b_n)\n",
    "            data_dict[pc] = (m1.group(0), m2.group(0))\n",
    "        else:\n",
    "            continue\n",
    "        \n",
    "print(f\"data_dict keys count: {len(data_dict.keys())}\")\n",
    "    "
   ]
  },
  {
   "cell_type": "code",
   "execution_count": 7,
   "id": "71c3f16d-8fd2-4461-a6a3-fcc87d26dfa3",
   "metadata": {},
   "outputs": [
    {
     "data": {
      "text/plain": [
       "dict_keys(['M3A', 'M4A', 'M5A', 'M6A', 'M7A', 'M9A', 'M1B', 'M3B', 'M4B', 'M5B', 'M6B', 'M9B', 'M1C', 'M3C', 'M4C', 'M5C', 'M6C', 'M9C', 'M1E', 'M4E', 'M5E', 'M6E', 'M1G', 'M4G', 'M5G', 'M6G', 'M1H', 'M2H', 'M3H', 'M4H', 'M5H', 'M6H', 'M1J', 'M2J', 'M3J', 'M4J', 'M5J', 'M6J', 'M1K', 'M2K', 'M3K', 'M4K', 'M5K', 'M6K', 'M1L', 'M2L', 'M3L', 'M4L', 'M5L', 'M6L', 'M9L', 'M1M', 'M2M', 'M3M', 'M4M', 'M5M', 'M6M', 'M9M', 'M1N', 'M2N', 'M3N', 'M4N', 'M5N', 'M6N', 'M9N', 'M1P', 'M2P', 'M4P', 'M5P', 'M6P', 'M9P', 'M1R', 'M2R', 'M4R', 'M5R', 'M6R', 'M7R', 'M9R', 'M1S', 'M4S', 'M5S', 'M6S', 'M1T', 'M4T', 'M5T', 'M1V', 'M4V', 'M5V', 'M8V', 'M9V', 'M1W', 'M4W', 'M5W', 'M8W', 'M9W', 'M1X', 'M4X', 'M5X', 'M8X', 'M4Y', 'M7Y', 'M8Y', 'M8Z'])"
      ]
     },
     "execution_count": 7,
     "metadata": {},
     "output_type": "execute_result"
    }
   ],
   "source": [
    "# for sanity check...\n",
    "data_dict.keys()"
   ]
  },
  {
   "cell_type": "code",
   "execution_count": 8,
   "id": "89145202-7571-488f-bfdd-ee8e5c324ad1",
   "metadata": {},
   "outputs": [
    {
     "data": {
      "text/html": [
       "<div>\n",
       "<style scoped>\n",
       "    .dataframe tbody tr th:only-of-type {\n",
       "        vertical-align: middle;\n",
       "    }\n",
       "\n",
       "    .dataframe tbody tr th {\n",
       "        vertical-align: top;\n",
       "    }\n",
       "\n",
       "    .dataframe thead th {\n",
       "        text-align: right;\n",
       "    }\n",
       "</style>\n",
       "<table border=\"1\" class=\"dataframe\">\n",
       "  <thead>\n",
       "    <tr style=\"text-align: right;\">\n",
       "      <th></th>\n",
       "      <th>postal_code</th>\n",
       "      <th>borough</th>\n",
       "      <th>neighborhood</th>\n",
       "    </tr>\n",
       "  </thead>\n",
       "  <tbody>\n",
       "    <tr>\n",
       "      <th>0</th>\n",
       "      <td>M3A</td>\n",
       "      <td>North York</td>\n",
       "      <td>Parkwoods</td>\n",
       "    </tr>\n",
       "    <tr>\n",
       "      <th>1</th>\n",
       "      <td>M4A</td>\n",
       "      <td>North York</td>\n",
       "      <td>Victoria Village</td>\n",
       "    </tr>\n",
       "    <tr>\n",
       "      <th>2</th>\n",
       "      <td>M5A</td>\n",
       "      <td>Downtown Toronto</td>\n",
       "      <td>Regent Park , Harbourfront</td>\n",
       "    </tr>\n",
       "    <tr>\n",
       "      <th>3</th>\n",
       "      <td>M6A</td>\n",
       "      <td>North York</td>\n",
       "      <td>Lawrence Manor , Lawrence Heights</td>\n",
       "    </tr>\n",
       "    <tr>\n",
       "      <th>4</th>\n",
       "      <td>M7A</td>\n",
       "      <td>Queen</td>\n",
       "      <td>Ontario Provincial Government</td>\n",
       "    </tr>\n",
       "    <tr>\n",
       "      <th>5</th>\n",
       "      <td>M9A</td>\n",
       "      <td>Etobicoke</td>\n",
       "      <td>Islington Avenue</td>\n",
       "    </tr>\n",
       "    <tr>\n",
       "      <th>6</th>\n",
       "      <td>M1B</td>\n",
       "      <td>Scarborough</td>\n",
       "      <td>Malvern , Rouge</td>\n",
       "    </tr>\n",
       "    <tr>\n",
       "      <th>7</th>\n",
       "      <td>M3B</td>\n",
       "      <td>North York</td>\n",
       "      <td>Don Mills</td>\n",
       "    </tr>\n",
       "    <tr>\n",
       "      <th>8</th>\n",
       "      <td>M4B</td>\n",
       "      <td>East York</td>\n",
       "      <td>Parkview Hill , Woodbine Gardens</td>\n",
       "    </tr>\n",
       "    <tr>\n",
       "      <th>9</th>\n",
       "      <td>M5B</td>\n",
       "      <td>Downtown Toronto</td>\n",
       "      <td>Garden District</td>\n",
       "    </tr>\n",
       "  </tbody>\n",
       "</table>\n",
       "</div>"
      ],
      "text/plain": [
       "  postal_code           borough                       neighborhood\n",
       "0         M3A        North York                          Parkwoods\n",
       "1         M4A        North York                   Victoria Village\n",
       "2         M5A  Downtown Toronto         Regent Park , Harbourfront\n",
       "3         M6A        North York  Lawrence Manor , Lawrence Heights\n",
       "4         M7A             Queen      Ontario Provincial Government\n",
       "5         M9A         Etobicoke                   Islington Avenue\n",
       "6         M1B       Scarborough                    Malvern , Rouge\n",
       "7         M3B        North York                          Don Mills\n",
       "8         M4B         East York   Parkview Hill , Woodbine Gardens\n",
       "9         M5B  Downtown Toronto                    Garden District"
      ]
     },
     "execution_count": 8,
     "metadata": {},
     "output_type": "execute_result"
    }
   ],
   "source": [
    "# separate them in their own values to feed them into pandas as a dict...\n",
    "canada = {'postal_code': [], 'borough': [], 'neighborhood': []}\n",
    "for k, v in data_dict.items():\n",
    "    canada['postal_code'].append(k)\n",
    "    canada['borough'].append(v[1])\n",
    "    canada['neighborhood'].append(v[0].replace('/', ','))\n",
    "\n",
    "df = pd.DataFrame.from_dict(canada)\n",
    "df.head(10)"
   ]
  },
  {
   "cell_type": "code",
   "execution_count": 9,
   "id": "3a99be7f-f2ed-46c0-ae9e-389bf5dfaed9",
   "metadata": {},
   "outputs": [
    {
     "data": {
      "text/plain": [
       "(103, 3)"
      ]
     },
     "execution_count": 9,
     "metadata": {},
     "output_type": "execute_result"
    }
   ],
   "source": [
    "df.shape"
   ]
  },
  {
   "cell_type": "markdown",
   "id": "41883a72-f66c-4413-ad96-5fb582c16437",
   "metadata": {},
   "source": [
    "save the df as csv file for further exploration"
   ]
  },
  {
   "cell_type": "code",
   "execution_count": 9,
   "id": "f754f99e-f28f-42cd-aed7-35a0072f905a",
   "metadata": {},
   "outputs": [],
   "source": [
    "df.to_csv('./toranto_postal_codes.csv', index=False)"
   ]
  }
 ],
 "metadata": {
  "kernelspec": {
   "display_name": "capstoneEnv391",
   "language": "python",
   "name": "capstoneenv391"
  },
  "language_info": {
   "codemirror_mode": {
    "name": "ipython",
    "version": 3
   },
   "file_extension": ".py",
   "mimetype": "text/x-python",
   "name": "python",
   "nbconvert_exporter": "python",
   "pygments_lexer": "ipython3",
   "version": "3.9.1"
  }
 },
 "nbformat": 4,
 "nbformat_minor": 5
}
