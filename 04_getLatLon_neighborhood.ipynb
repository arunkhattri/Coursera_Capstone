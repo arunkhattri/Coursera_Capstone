{
 "cells": [
  {
   "cell_type": "markdown",
   "id": "24074cf6-b1f7-4639-88a1-ec53231ff7f6",
   "metadata": {},
   "source": [
    "## Get the latitude and the longitude coordinates of each neighborhood. "
   ]
  },
  {
   "cell_type": "code",
   "execution_count": 9,
   "id": "0c72c31f-0b70-43e6-9655-e0f995d655e5",
   "metadata": {},
   "outputs": [],
   "source": [
    "import pandas as pd\n",
    "import geocoder\n",
    "from geopy.geocoders import Nominatim"
   ]
  },
  {
   "cell_type": "code",
   "execution_count": 10,
   "id": "575e0d7d-3e0c-4ebc-b43e-4d35349c29a1",
   "metadata": {},
   "outputs": [
    {
     "data": {
      "text/html": [
       "<div>\n",
       "<style scoped>\n",
       "    .dataframe tbody tr th:only-of-type {\n",
       "        vertical-align: middle;\n",
       "    }\n",
       "\n",
       "    .dataframe tbody tr th {\n",
       "        vertical-align: top;\n",
       "    }\n",
       "\n",
       "    .dataframe thead th {\n",
       "        text-align: right;\n",
       "    }\n",
       "</style>\n",
       "<table border=\"1\" class=\"dataframe\">\n",
       "  <thead>\n",
       "    <tr style=\"text-align: right;\">\n",
       "      <th></th>\n",
       "      <th>postal_code</th>\n",
       "      <th>borough</th>\n",
       "      <th>neighborhood</th>\n",
       "    </tr>\n",
       "  </thead>\n",
       "  <tbody>\n",
       "    <tr>\n",
       "      <th>0</th>\n",
       "      <td>M3A</td>\n",
       "      <td>North York</td>\n",
       "      <td>Parkwoods</td>\n",
       "    </tr>\n",
       "    <tr>\n",
       "      <th>1</th>\n",
       "      <td>M4A</td>\n",
       "      <td>North York</td>\n",
       "      <td>Victoria Village</td>\n",
       "    </tr>\n",
       "    <tr>\n",
       "      <th>2</th>\n",
       "      <td>M5A</td>\n",
       "      <td>Downtown Toronto</td>\n",
       "      <td>Regent Park , Harbourfront</td>\n",
       "    </tr>\n",
       "    <tr>\n",
       "      <th>3</th>\n",
       "      <td>M6A</td>\n",
       "      <td>North York</td>\n",
       "      <td>Lawrence Manor , Lawrence Heights</td>\n",
       "    </tr>\n",
       "    <tr>\n",
       "      <th>4</th>\n",
       "      <td>M7A</td>\n",
       "      <td>Queen</td>\n",
       "      <td>Ontario Provincial Government</td>\n",
       "    </tr>\n",
       "  </tbody>\n",
       "</table>\n",
       "</div>"
      ],
      "text/plain": [
       "  postal_code           borough                       neighborhood\n",
       "0         M3A        North York                          Parkwoods\n",
       "1         M4A        North York                   Victoria Village\n",
       "2         M5A  Downtown Toronto         Regent Park , Harbourfront\n",
       "3         M6A        North York  Lawrence Manor , Lawrence Heights\n",
       "4         M7A             Queen      Ontario Provincial Government"
      ]
     },
     "execution_count": 10,
     "metadata": {},
     "output_type": "execute_result"
    }
   ],
   "source": [
    "# load toranto postal code data\n",
    "tpc_data = \"./toranto_postal_codes.csv\"\n",
    "df = pd.read_csv(tpc_data)\n",
    "df.head()"
   ]
  },
  {
   "cell_type": "code",
   "execution_count": 11,
   "id": "109e71dd-6c66-419c-8522-550e0f33a1b6",
   "metadata": {},
   "outputs": [
    {
     "data": {
      "text/plain": [
       "(103, 3)"
      ]
     },
     "execution_count": 11,
     "metadata": {},
     "output_type": "execute_result"
    }
   ],
   "source": [
    "df.shape"
   ]
  },
  {
   "cell_type": "markdown",
   "id": "ba8c63d9-7b53-49ee-81fd-4e4d9e2046f0",
   "metadata": {},
   "source": [
    "get the longitude and latitude for each postal code"
   ]
  },
  {
   "cell_type": "code",
   "execution_count": 12,
   "id": "426f418e-4cdc-427c-a8c7-147f859ff96f",
   "metadata": {},
   "outputs": [
    {
     "data": {
      "text/plain": [
       "103"
      ]
     },
     "execution_count": 12,
     "metadata": {},
     "output_type": "execute_result"
    }
   ],
   "source": [
    "postal_codes = df.postal_code.values\n",
    "len(postal_codes)"
   ]
  },
  {
   "cell_type": "code",
   "execution_count": 14,
   "id": "6c2669fd-c471-4047-8b30-aab43ae49892",
   "metadata": {},
   "outputs": [
    {
     "data": {
      "text/plain": [
       "array(['M3A', 'M4A', 'M5A', 'M6A', 'M7A'], dtype=object)"
      ]
     },
     "execution_count": 14,
     "metadata": {},
     "output_type": "execute_result"
    }
   ],
   "source": [
    "postal_codes[:5]"
   ]
  },
  {
   "cell_type": "markdown",
   "id": "e9868dc2-4bda-4b90-a22b-3ca6f2d6d199",
   "metadata": {},
   "source": [
    "#### Not working, taking indefinite time... (below code)"
   ]
  },
  {
   "cell_type": "code",
   "execution_count": 17,
   "id": "3a99be7f-f2ed-46c0-ae9e-389bf5dfaed9",
   "metadata": {
    "collapsed": true,
    "jupyter": {
     "outputs_hidden": true
    },
    "tags": []
   },
   "outputs": [
    {
     "ename": "AttributeError",
     "evalue": "'NoneType' object has no attribute 'latitude'",
     "output_type": "error",
     "traceback": [
      "\u001b[0;31m---------------------------------------------------------------------------\u001b[0m",
      "\u001b[0;31mAttributeError\u001b[0m                            Traceback (most recent call last)",
      "\u001b[0;32m<ipython-input-17-20c6c25389d5>\u001b[0m in \u001b[0;36m<module>\u001b[0;34m\u001b[0m\n\u001b[1;32m      6\u001b[0m     \u001b[0maddress\u001b[0m \u001b[0;34m=\u001b[0m \u001b[0;34mf'{pc}, Toranto, Ontario'\u001b[0m\u001b[0;34m\u001b[0m\u001b[0;34m\u001b[0m\u001b[0m\n\u001b[1;32m      7\u001b[0m     \u001b[0mlocation\u001b[0m \u001b[0;34m=\u001b[0m \u001b[0mgeolocator\u001b[0m\u001b[0;34m.\u001b[0m\u001b[0mgeocode\u001b[0m\u001b[0;34m(\u001b[0m\u001b[0maddress\u001b[0m\u001b[0;34m)\u001b[0m\u001b[0;34m\u001b[0m\u001b[0;34m\u001b[0m\u001b[0m\n\u001b[0;32m----> 8\u001b[0;31m     \u001b[0mlat\u001b[0m\u001b[0;34m.\u001b[0m\u001b[0mappend\u001b[0m\u001b[0;34m(\u001b[0m\u001b[0mlocation\u001b[0m\u001b[0;34m.\u001b[0m\u001b[0mlatitude\u001b[0m\u001b[0;34m)\u001b[0m\u001b[0;34m\u001b[0m\u001b[0;34m\u001b[0m\u001b[0m\n\u001b[0m\u001b[1;32m      9\u001b[0m     \u001b[0mlon\u001b[0m\u001b[0;34m.\u001b[0m\u001b[0mappend\u001b[0m\u001b[0;34m(\u001b[0m\u001b[0mlocation\u001b[0m\u001b[0;34m.\u001b[0m\u001b[0mlongitude\u001b[0m\u001b[0;34m)\u001b[0m\u001b[0;34m\u001b[0m\u001b[0;34m\u001b[0m\u001b[0m\n\u001b[1;32m     10\u001b[0m \u001b[0;34m\u001b[0m\u001b[0m\n",
      "\u001b[0;31mAttributeError\u001b[0m: 'NoneType' object has no attribute 'latitude'"
     ]
    }
   ],
   "source": [
    "lat = []\n",
    "lon = []\n",
    "geolocator = Nominatim(user_agent=\"toranto_explorer\")\n",
    "\n",
    "for pc in postal_codes:\n",
    "    address = f'{pc}, Toranto, Ontario'\n",
    "    location = geolocator.geocode(address)\n",
    "    lat.append(location.latitude)\n",
    "    lon.append(location.longitude)\n",
    "\n",
    "# doesn't work ..^..\n",
    "\n",
    "for pc in postal_codes:\n",
    "    coordinates = None\n",
    "    # loop until you get the coordinates\n",
    "    while(coordinates is None):\n",
    "          g = geocoder.google(f'{pc}, Toronto, Ontario')\n",
    "          coordinates = g.latlng\n",
    "        lat.append(coordinates[0])\n",
    "        lon.append(coordinates[1])\n",
    "\n",
    "# this also doesn't work ..^..\n",
    "\n",
    "print(f\"total lat's: {len(lat)}\\ntotal lon's: {len(lon)}\")"
   ]
  },
  {
   "cell_type": "markdown",
   "id": "8210006d-3698-4ce2-bd50-7ce0f0ba7a37",
   "metadata": {},
   "source": [
    "**Note**: geocoder and geopy both taking indefinite time surprisingly... so to finish the project using given dataset for coordinates"
   ]
  },
  {
   "cell_type": "code",
   "execution_count": 29,
   "id": "f6f0a4b5-98a5-4faf-9c0a-b62621beac73",
   "metadata": {},
   "outputs": [
    {
     "data": {
      "text/html": [
       "<div>\n",
       "<style scoped>\n",
       "    .dataframe tbody tr th:only-of-type {\n",
       "        vertical-align: middle;\n",
       "    }\n",
       "\n",
       "    .dataframe tbody tr th {\n",
       "        vertical-align: top;\n",
       "    }\n",
       "\n",
       "    .dataframe thead th {\n",
       "        text-align: right;\n",
       "    }\n",
       "</style>\n",
       "<table border=\"1\" class=\"dataframe\">\n",
       "  <thead>\n",
       "    <tr style=\"text-align: right;\">\n",
       "      <th></th>\n",
       "      <th>Postal Code</th>\n",
       "      <th>Latitude</th>\n",
       "      <th>Longitude</th>\n",
       "    </tr>\n",
       "  </thead>\n",
       "  <tbody>\n",
       "    <tr>\n",
       "      <th>0</th>\n",
       "      <td>M1B</td>\n",
       "      <td>43.806686</td>\n",
       "      <td>-79.194353</td>\n",
       "    </tr>\n",
       "    <tr>\n",
       "      <th>1</th>\n",
       "      <td>M1C</td>\n",
       "      <td>43.784535</td>\n",
       "      <td>-79.160497</td>\n",
       "    </tr>\n",
       "    <tr>\n",
       "      <th>2</th>\n",
       "      <td>M1E</td>\n",
       "      <td>43.763573</td>\n",
       "      <td>-79.188711</td>\n",
       "    </tr>\n",
       "    <tr>\n",
       "      <th>3</th>\n",
       "      <td>M1G</td>\n",
       "      <td>43.770992</td>\n",
       "      <td>-79.216917</td>\n",
       "    </tr>\n",
       "    <tr>\n",
       "      <th>4</th>\n",
       "      <td>M1H</td>\n",
       "      <td>43.773136</td>\n",
       "      <td>-79.239476</td>\n",
       "    </tr>\n",
       "  </tbody>\n",
       "</table>\n",
       "</div>"
      ],
      "text/plain": [
       "  Postal Code   Latitude  Longitude\n",
       "0         M1B  43.806686 -79.194353\n",
       "1         M1C  43.784535 -79.160497\n",
       "2         M1E  43.763573 -79.188711\n",
       "3         M1G  43.770992 -79.216917\n",
       "4         M1H  43.773136 -79.239476"
      ]
     },
     "execution_count": 29,
     "metadata": {},
     "output_type": "execute_result"
    }
   ],
   "source": [
    "# load geospatial data\n",
    "df_gs = pd.read_csv(\"./Geospatial_Coordinates.csv\")\n",
    "df_gs.head()"
   ]
  },
  {
   "cell_type": "code",
   "execution_count": 30,
   "id": "1f9e34f8-eb88-4c34-9295-c38627688199",
   "metadata": {},
   "outputs": [
    {
     "data": {
      "text/plain": [
       "(103, 3)"
      ]
     },
     "execution_count": 30,
     "metadata": {},
     "output_type": "execute_result"
    }
   ],
   "source": [
    "df_gs.shape"
   ]
  },
  {
   "cell_type": "code",
   "execution_count": 32,
   "id": "f873a034-f850-4018-bc69-1052c38356b9",
   "metadata": {},
   "outputs": [
    {
     "data": {
      "text/plain": [
       "array(['M1B', 'M1C', 'M1E', 'M1G', 'M1H', 'M1J', 'M1K', 'M1L', 'M1M',\n",
       "       'M1N'], dtype=object)"
      ]
     },
     "execution_count": 32,
     "metadata": {},
     "output_type": "execute_result"
    }
   ],
   "source": [
    "postal_codes.sort()\n",
    "postal_codes[:10]"
   ]
  },
  {
   "cell_type": "markdown",
   "id": "b468a735-7cd2-4203-95b4-435943fde51e",
   "metadata": {},
   "source": [
    "### Merging df and df_gs"
   ]
  },
  {
   "cell_type": "code",
   "execution_count": 33,
   "id": "c35c07b3-d5e7-4917-9083-2ce029f0a5ea",
   "metadata": {},
   "outputs": [
    {
     "name": "stdout",
     "output_type": "stream",
     "text": [
      "<class 'pandas.core.frame.DataFrame'>\n",
      "Int64Index: 103 entries, 0 to 102\n",
      "Data columns (total 6 columns):\n",
      " #   Column        Non-Null Count  Dtype  \n",
      "---  ------        --------------  -----  \n",
      " 0   postal_code   103 non-null    object \n",
      " 1   borough       103 non-null    object \n",
      " 2   neighborhood  103 non-null    object \n",
      " 3   Postal Code   103 non-null    object \n",
      " 4   Latitude      103 non-null    float64\n",
      " 5   Longitude     103 non-null    float64\n",
      "dtypes: float64(2), object(4)\n",
      "memory usage: 5.6+ KB\n"
     ]
    }
   ],
   "source": [
    "df_merged = df.merge(df_gs, left_on=\"postal_code\", right_on=\"Postal Code\")\n",
    "df_merged.info()"
   ]
  },
  {
   "cell_type": "code",
   "execution_count": 34,
   "id": "eef03046-8157-4055-b6de-fc79704903cf",
   "metadata": {},
   "outputs": [
    {
     "data": {
      "text/html": [
       "<div>\n",
       "<style scoped>\n",
       "    .dataframe tbody tr th:only-of-type {\n",
       "        vertical-align: middle;\n",
       "    }\n",
       "\n",
       "    .dataframe tbody tr th {\n",
       "        vertical-align: top;\n",
       "    }\n",
       "\n",
       "    .dataframe thead th {\n",
       "        text-align: right;\n",
       "    }\n",
       "</style>\n",
       "<table border=\"1\" class=\"dataframe\">\n",
       "  <thead>\n",
       "    <tr style=\"text-align: right;\">\n",
       "      <th></th>\n",
       "      <th>postal_code</th>\n",
       "      <th>borough</th>\n",
       "      <th>neighborhood</th>\n",
       "      <th>Postal Code</th>\n",
       "      <th>Latitude</th>\n",
       "      <th>Longitude</th>\n",
       "    </tr>\n",
       "  </thead>\n",
       "  <tbody>\n",
       "    <tr>\n",
       "      <th>0</th>\n",
       "      <td>M1B</td>\n",
       "      <td>North York</td>\n",
       "      <td>Parkwoods</td>\n",
       "      <td>M1B</td>\n",
       "      <td>43.806686</td>\n",
       "      <td>-79.194353</td>\n",
       "    </tr>\n",
       "    <tr>\n",
       "      <th>1</th>\n",
       "      <td>M1C</td>\n",
       "      <td>North York</td>\n",
       "      <td>Victoria Village</td>\n",
       "      <td>M1C</td>\n",
       "      <td>43.784535</td>\n",
       "      <td>-79.160497</td>\n",
       "    </tr>\n",
       "    <tr>\n",
       "      <th>2</th>\n",
       "      <td>M1E</td>\n",
       "      <td>Downtown Toronto</td>\n",
       "      <td>Regent Park , Harbourfront</td>\n",
       "      <td>M1E</td>\n",
       "      <td>43.763573</td>\n",
       "      <td>-79.188711</td>\n",
       "    </tr>\n",
       "    <tr>\n",
       "      <th>3</th>\n",
       "      <td>M1G</td>\n",
       "      <td>North York</td>\n",
       "      <td>Lawrence Manor , Lawrence Heights</td>\n",
       "      <td>M1G</td>\n",
       "      <td>43.770992</td>\n",
       "      <td>-79.216917</td>\n",
       "    </tr>\n",
       "    <tr>\n",
       "      <th>4</th>\n",
       "      <td>M1H</td>\n",
       "      <td>Queen</td>\n",
       "      <td>Ontario Provincial Government</td>\n",
       "      <td>M1H</td>\n",
       "      <td>43.773136</td>\n",
       "      <td>-79.239476</td>\n",
       "    </tr>\n",
       "  </tbody>\n",
       "</table>\n",
       "</div>"
      ],
      "text/plain": [
       "  postal_code           borough                       neighborhood  \\\n",
       "0         M1B        North York                          Parkwoods   \n",
       "1         M1C        North York                   Victoria Village   \n",
       "2         M1E  Downtown Toronto         Regent Park , Harbourfront   \n",
       "3         M1G        North York  Lawrence Manor , Lawrence Heights   \n",
       "4         M1H             Queen      Ontario Provincial Government   \n",
       "\n",
       "  Postal Code   Latitude  Longitude  \n",
       "0         M1B  43.806686 -79.194353  \n",
       "1         M1C  43.784535 -79.160497  \n",
       "2         M1E  43.763573 -79.188711  \n",
       "3         M1G  43.770992 -79.216917  \n",
       "4         M1H  43.773136 -79.239476  "
      ]
     },
     "execution_count": 34,
     "metadata": {},
     "output_type": "execute_result"
    }
   ],
   "source": [
    "df_merged.head()"
   ]
  },
  {
   "cell_type": "code",
   "execution_count": 35,
   "id": "f6295ac4-dc7f-455f-9cd6-83e7fafd88be",
   "metadata": {},
   "outputs": [
    {
     "data": {
      "text/html": [
       "<div>\n",
       "<style scoped>\n",
       "    .dataframe tbody tr th:only-of-type {\n",
       "        vertical-align: middle;\n",
       "    }\n",
       "\n",
       "    .dataframe tbody tr th {\n",
       "        vertical-align: top;\n",
       "    }\n",
       "\n",
       "    .dataframe thead th {\n",
       "        text-align: right;\n",
       "    }\n",
       "</style>\n",
       "<table border=\"1\" class=\"dataframe\">\n",
       "  <thead>\n",
       "    <tr style=\"text-align: right;\">\n",
       "      <th></th>\n",
       "      <th>postal_code</th>\n",
       "      <th>borough</th>\n",
       "      <th>neighborhood</th>\n",
       "      <th>Latitude</th>\n",
       "      <th>Longitude</th>\n",
       "    </tr>\n",
       "  </thead>\n",
       "  <tbody>\n",
       "    <tr>\n",
       "      <th>0</th>\n",
       "      <td>M1B</td>\n",
       "      <td>North York</td>\n",
       "      <td>Parkwoods</td>\n",
       "      <td>43.806686</td>\n",
       "      <td>-79.194353</td>\n",
       "    </tr>\n",
       "    <tr>\n",
       "      <th>1</th>\n",
       "      <td>M1C</td>\n",
       "      <td>North York</td>\n",
       "      <td>Victoria Village</td>\n",
       "      <td>43.784535</td>\n",
       "      <td>-79.160497</td>\n",
       "    </tr>\n",
       "  </tbody>\n",
       "</table>\n",
       "</div>"
      ],
      "text/plain": [
       "  postal_code     borough      neighborhood   Latitude  Longitude\n",
       "0         M1B  North York         Parkwoods  43.806686 -79.194353\n",
       "1         M1C  North York  Victoria Village  43.784535 -79.160497"
      ]
     },
     "execution_count": 35,
     "metadata": {},
     "output_type": "execute_result"
    }
   ],
   "source": [
    "# drop 'Postal Code'\n",
    "df_merged.drop('Postal Code', axis=1, inplace=True)\n",
    "df_merged.head(2)"
   ]
  },
  {
   "cell_type": "code",
   "execution_count": 36,
   "id": "f3f7f123-d443-46c6-89a7-c7bb733c108a",
   "metadata": {},
   "outputs": [],
   "source": [
    "# save the dataframe in csv file\n",
    "df_merged.to_csv(\"./toranto_pc_latlon.csv\", index=False)"
   ]
  }
 ],
 "metadata": {
  "kernelspec": {
   "display_name": "capstoneEnv391",
   "language": "python",
   "name": "capstoneenv391"
  },
  "language_info": {
   "codemirror_mode": {
    "name": "ipython",
    "version": 3
   },
   "file_extension": ".py",
   "mimetype": "text/x-python",
   "name": "python",
   "nbconvert_exporter": "python",
   "pygments_lexer": "ipython3",
   "version": "3.9.1"
  }
 },
 "nbformat": 4,
 "nbformat_minor": 5
}
